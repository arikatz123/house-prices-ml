{
 "cells": [
  {
   "cell_type": "markdown",
   "id": "9f904741",
   "metadata": {},
   "source": [
    "# Time to progresss on to regress(ion)\n",
    "\n",
    "In dataexploration_01.ipynb, I explored the training data and cleaned it up\n",
    "\n",
    "In this notebook, I'll run a few different types of linear regression models -- starting with simple OLS and moving onto some more techy ML models\n",
    "\n",
    "The goal is to run different models using the **exact same data**, so I can compare their performance. This means that, although some models require different manipulations in the data to maximise performance (e.g. normality), I will forgo this for consistency.\n",
    "\n"
   ]
  },
  {
   "cell_type": "markdown",
   "id": "50d11f70",
   "metadata": {},
   "source": [
    "Lets start off by importing the relevant libraries:"
   ]
  },
  {
   "cell_type": "code",
   "execution_count": 3,
   "id": "869e5f62",
   "metadata": {},
   "outputs": [],
   "source": [
    "import pandas as pd                                 # Python library for handling structured data\n",
    "from pathlib import Path                            # Clean way to work with file and folder paths\n",
    "import matplotlib.pyplot as plt                     # Loads matplotlib's pypolot module for plotting graphs\n",
    "import seaborn as sns                               # Statistically plotting library built on top of Matplotlib\n",
    "import numpy as np                                  # Fundamental library for arrays and numerical operations\n",
    "from scipy.stats import norm                        # Normal distribution object from SciPy's stats module\n",
    "from scipy.stats import skew\n",
    "from scipy.stats import pearsonr\n",
    "from sklearn.preprocessing import StandardScaler    # Tool to standardise data from scikitlearn\n",
    "from scipy import stats                             # Loads stats function (e.g. t-tests, correlations, distributions)\n",
    "%matplotlib inline\n",
    "# ^^ Makes Matplotlib plots appear inside the notebook (can zoom) ^^"
   ]
  },
  {
   "cell_type": "code",
   "execution_count": null,
   "id": "1f954191",
   "metadata": {},
   "outputs": [],
   "source": []
  }
 ],
 "metadata": {
  "kernelspec": {
   "display_name": ".venv",
   "language": "python",
   "name": "python3"
  },
  "language_info": {
   "codemirror_mode": {
    "name": "ipython",
    "version": 3
   },
   "file_extension": ".py",
   "mimetype": "text/x-python",
   "name": "python",
   "nbconvert_exporter": "python",
   "pygments_lexer": "ipython3",
   "version": "3.13.3"
  }
 },
 "nbformat": 4,
 "nbformat_minor": 5
}
