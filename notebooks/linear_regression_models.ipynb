{
 "cells": [
  {
   "cell_type": "markdown",
   "id": "9f904741",
   "metadata": {},
   "source": [
    "# Time to progresss on to regress(ion)\n",
    "\n",
    "In dataexploration_01.ipynb, I explored the training data and cleaned it up\n",
    "\n",
    "In this notebook, I'll run a few different types of linear regression models -- starting with simple OLS and moving onto some more techy ML models\n",
    "\n",
    "The goal is to run different models using the **exact same data**, so I can compare their performance. This means that, although some models require different manipulations in the data to maximise performance (e.g. normality), I will forgo this for consistency.\n",
    "\n"
   ]
  },
  {
   "cell_type": "markdown",
   "id": "50d11f70",
   "metadata": {},
   "source": [
    "Lets start off by importing the relevant libraries:"
   ]
  },
  {
   "cell_type": "code",
   "execution_count": 4,
   "id": "869e5f62",
   "metadata": {},
   "outputs": [],
   "source": [
    "import pandas as pd                                 # Python library for handling structured data\n",
    "from pathlib import Path                            # Clean way to work with file and folder paths\n",
    "import matplotlib.pyplot as plt                     # Loads matplotlib's pypolot module for plotting graphs\n",
    "import seaborn as sns                               # Statistically plotting library built on top of Matplotlib\n",
    "import numpy as np                                  # Fundamental library for arrays and numerical operations\n",
    "from scipy.stats import norm                        # Normal distribution object from SciPy's stats module\n",
    "from scipy.stats import skew\n",
    "from scipy.stats import pearsonr\n",
    "from sklearn.preprocessing import StandardScaler    # Tool to standardise data from scikitlearn\n",
    "from scipy import stats                             # Loads stats function (e.g. t-tests, correlations, distributions)\n",
    "%matplotlib inline\n",
    "# ^^ Makes Matplotlib plots appear inside the notebook (can zoom) ^^\n",
    "%config InlineBackend.figure_format = 'retina' #set 'png' here when working on notebook\n",
    "# ^^ Makes plots look better on high-res screens ^^"
   ]
  },
  {
   "cell_type": "markdown",
   "id": "7b1be552",
   "metadata": {},
   "source": [
    "Now, lets check our clean data is as we left it:"
   ]
  },
  {
   "cell_type": "code",
   "execution_count": 8,
   "id": "1f954191",
   "metadata": {},
   "outputs": [
    {
     "name": "stdout",
     "output_type": "stream",
     "text": [
      "<class 'pandas.core.frame.DataFrame'>\n",
      "RangeIndex: 1457 entries, 0 to 1456\n",
      "Columns: 285 entries, Id to MiscFeature_Shed\n",
      "dtypes: bool(247), float64(12), int64(26)\n",
      "memory usage: 784.1 KB\n"
     ]
    }
   ],
   "source": [
    "train_clean = pd.read_csv(Path('../data/processed/train_clean.csv'))\n",
    "train_clean.head()\n",
    "\n",
    "train_clean.info()"
   ]
  },
  {
   "cell_type": "markdown",
   "id": "7646f7a0",
   "metadata": {},
   "source": [
    "Now lets create matricies with our data for sklearn:"
   ]
  },
  {
   "cell_type": "code",
   "execution_count": null,
   "id": "523184ee",
   "metadata": {},
   "outputs": [],
   "source": [
    "X_train = train_clean.drop(\"SalePrice\", axis=1) # Features ()\n",
    "y_train = train_clean[\"SalePrice\"]               # Target variable\n"
   ]
  }
 ],
 "metadata": {
  "kernelspec": {
   "display_name": ".venv",
   "language": "python",
   "name": "python3"
  },
  "language_info": {
   "codemirror_mode": {
    "name": "ipython",
    "version": 3
   },
   "file_extension": ".py",
   "mimetype": "text/x-python",
   "name": "python",
   "nbconvert_exporter": "python",
   "pygments_lexer": "ipython3",
   "version": "3.13.3"
  }
 },
 "nbformat": 4,
 "nbformat_minor": 5
}
